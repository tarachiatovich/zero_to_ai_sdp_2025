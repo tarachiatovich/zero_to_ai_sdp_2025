{
 "cells": [
  {
   "cell_type": "markdown",
   "id": "29a31a5c",
   "metadata": {},
   "source": [
    "#### Use this notebook to install needed packages\n",
    "\n",
    "If you were unable to get the virtual environment running as outlined in the [README.md file](https://github.com/tarachiatovich/zero_to_ai_sdp_2025/blob/main/README.md), you can run the next cell to install the needed packages."
   ]
  },
  {
   "cell_type": "code",
   "execution_count": null,
   "id": "031e2d98",
   "metadata": {},
   "outputs": [],
   "source": [
    "!pip install scikit-learn\n",
    "!pip install xgboost\n",
    "!pip install gensim\n",
    "!pip install transformers\n",
    "!pip install sentence-transformers\n",
    "!pip install seaborn\n",
    "!pip install pandas\n",
    "!pip install ucimlrepo\n",
    "!pip install matplotlib\n",
    "!pip install pmdarima\n",
    "!pip install pytest\n",
    "!pip install jupyter\n",
    "!pip install ipykernel\n",
    "!pip install skforecast"
   ]
  }
 ],
 "metadata": {
  "language_info": {
   "name": "python"
  }
 },
 "nbformat": 4,
 "nbformat_minor": 5
}
