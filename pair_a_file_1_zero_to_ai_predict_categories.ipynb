{
 "cells": [
  {
   "cell_type": "markdown",
   "id": "80c45448-7e87-44f1-846c-3fea1faefbd6",
   "metadata": {},
   "source": [
    "### Categorical predictions\n",
    "\n",
    "This notebook fits machine learning models to predict which students drop out of college."
   ]
  },
  {
   "cell_type": "code",
   "execution_count": 332,
   "id": "73142fd6-52d5-4840-a66f-42af4f94817a",
   "metadata": {},
   "outputs": [],
   "source": [
    "import matplotlib.pyplot as plt\n",
    "import numpy as np\n",
    "import pandas as pd \n",
    "import seaborn as sns\n",
    "import xgboost as xgb\n",
    "\n",
    "from sklearn.ensemble import GradientBoostingClassifier, RandomForestClassifier\n",
    "from sklearn.metrics import accuracy_score, classification_report, f1_score\n",
    "from sklearn.model_selection import GridSearchCV, train_test_split\n",
    "from sklearn.preprocessing import OneHotEncoder\n",
    "from sklearn.tree import DecisionTreeRegressor\n",
    "from ucimlrepo import fetch_ucirepo "
   ]
  },
  {
   "cell_type": "markdown",
   "id": "02e0293c-70b7-41e6-afad-6e149525c99a",
   "metadata": {},
   "source": [
    "#### Read in, explore, and prepare the data\n",
    "\n",
    "Get a sense for the data and prepare them for analyses."
   ]
  },
  {
   "cell_type": "code",
   "execution_count": 333,
   "id": "d22aa5b6-482e-4244-915a-76d0d56384f1",
   "metadata": {},
   "outputs": [
    {
     "name": "stdout",
     "output_type": "stream",
     "text": [
      "                                              name     role         type  \\\n",
      "0                                   Marital Status  Feature      Integer   \n",
      "1                                 Application mode  Feature      Integer   \n",
      "2                                Application order  Feature      Integer   \n",
      "3                                           Course  Feature      Integer   \n",
      "4                       Daytime/evening attendance  Feature      Integer   \n",
      "5                           Previous qualification  Feature      Integer   \n",
      "6                   Previous qualification (grade)  Feature   Continuous   \n",
      "7                                      Nacionality  Feature      Integer   \n",
      "8                           Mother's qualification  Feature      Integer   \n",
      "9                           Father's qualification  Feature      Integer   \n",
      "10                             Mother's occupation  Feature      Integer   \n",
      "11                             Father's occupation  Feature      Integer   \n",
      "12                                 Admission grade  Feature   Continuous   \n",
      "13                                       Displaced  Feature      Integer   \n",
      "14                       Educational special needs  Feature      Integer   \n",
      "15                                          Debtor  Feature      Integer   \n",
      "16                         Tuition fees up to date  Feature      Integer   \n",
      "17                                          Gender  Feature      Integer   \n",
      "18                              Scholarship holder  Feature      Integer   \n",
      "19                               Age at enrollment  Feature      Integer   \n",
      "20                                   International  Feature      Integer   \n",
      "21             Curricular units 1st sem (credited)  Feature      Integer   \n",
      "22             Curricular units 1st sem (enrolled)  Feature      Integer   \n",
      "23          Curricular units 1st sem (evaluations)  Feature      Integer   \n",
      "24             Curricular units 1st sem (approved)  Feature      Integer   \n",
      "25                Curricular units 1st sem (grade)  Feature      Integer   \n",
      "26  Curricular units 1st sem (without evaluations)  Feature      Integer   \n",
      "27             Curricular units 2nd sem (credited)  Feature      Integer   \n",
      "28             Curricular units 2nd sem (enrolled)  Feature      Integer   \n",
      "29          Curricular units 2nd sem (evaluations)  Feature      Integer   \n",
      "30             Curricular units 2nd sem (approved)  Feature      Integer   \n",
      "31                Curricular units 2nd sem (grade)  Feature      Integer   \n",
      "32  Curricular units 2nd sem (without evaluations)  Feature      Integer   \n",
      "33                               Unemployment rate  Feature   Continuous   \n",
      "34                                  Inflation rate  Feature   Continuous   \n",
      "35                                             GDP  Feature   Continuous   \n",
      "36                                          Target   Target  Categorical   \n",
      "\n",
      "        demographic                                        description units  \\\n",
      "0    Marital Status  1 – single 2 – married 3 – widower 4 – divorce...  None   \n",
      "1              None  1 - 1st phase - general contingent 2 - Ordinan...  None   \n",
      "2              None  Application order (between 0 - first choice; a...  None   \n",
      "3              None  33 - Biofuel Production Technologies 171 - Ani...  None   \n",
      "4              None                            1 – daytime 0 - evening  None   \n",
      "5   Education Level  1 - Secondary education 2 - Higher education -...  None   \n",
      "6              None  Grade of previous qualification (between 0 and...  None   \n",
      "7       Nationality  1 - Portuguese; 2 - German; 6 - Spanish; 11 - ...  None   \n",
      "8   Education Level  1 - Secondary Education - 12th Year of Schooli...  None   \n",
      "9   Education Level  1 - Secondary Education - 12th Year of Schooli...  None   \n",
      "10       Occupation  0 - Student 1 - Representatives of the Legisla...  None   \n",
      "11       Occupation  0 - Student 1 - Representatives of the Legisla...  None   \n",
      "12             None                Admission grade (between 0 and 200)  None   \n",
      "13             None                                     1 – yes 0 – no  None   \n",
      "14             None                                     1 – yes 0 – no  None   \n",
      "15             None                                     1 – yes 0 – no  None   \n",
      "16             None                                     1 – yes 0 – no  None   \n",
      "17           Gender                                1 – male 0 – female  None   \n",
      "18             None                                     1 – yes 0 – no  None   \n",
      "19              Age                       Age of studend at enrollment  None   \n",
      "20             None                                     1 – yes 0 – no  None   \n",
      "21             None  Number of curricular units credited in the 1st...  None   \n",
      "22             None  Number of curricular units enrolled in the 1st...  None   \n",
      "23             None  Number of evaluations to curricular units in t...  None   \n",
      "24             None  Number of curricular units approved in the 1st...  None   \n",
      "25             None  Grade average in the 1st semester (between 0 a...  None   \n",
      "26             None  Number of curricular units without evalutions ...  None   \n",
      "27             None  Number of curricular units credited in the 2nd...  None   \n",
      "28             None  Number of curricular units enrolled in the 2nd...  None   \n",
      "29             None  Number of evaluations to curricular units in t...  None   \n",
      "30             None  Number of curricular units approved in the 2nd...  None   \n",
      "31             None  Grade average in the 2nd semester (between 0 a...  None   \n",
      "32             None  Number of curricular units without evalutions ...  None   \n",
      "33             None                              Unemployment rate (%)  None   \n",
      "34             None                                 Inflation rate (%)  None   \n",
      "35             None                                                GDP  None   \n",
      "36             None  Target. The problem is formulated as a three c...  None   \n",
      "\n",
      "   missing_values  \n",
      "0              no  \n",
      "1              no  \n",
      "2              no  \n",
      "3              no  \n",
      "4              no  \n",
      "5              no  \n",
      "6              no  \n",
      "7              no  \n",
      "8              no  \n",
      "9              no  \n",
      "10             no  \n",
      "11             no  \n",
      "12             no  \n",
      "13             no  \n",
      "14             no  \n",
      "15             no  \n",
      "16             no  \n",
      "17             no  \n",
      "18             no  \n",
      "19             no  \n",
      "20             no  \n",
      "21             no  \n",
      "22             no  \n",
      "23             no  \n",
      "24             no  \n",
      "25             no  \n",
      "26             no  \n",
      "27             no  \n",
      "28             no  \n",
      "29             no  \n",
      "30             no  \n",
      "31             no  \n",
      "32             no  \n",
      "33             no  \n",
      "34             no  \n",
      "35             no  \n",
      "36             no  \n"
     ]
    }
   ],
   "source": [
    "# Dataset for student outcomes\n",
    "# Open, publicly available\n",
    "# Read more here:\n",
    "# https://archive.ics.uci.edu/dataset/697/predict+students+dropout+and+academic+success\n",
    "\n",
    "# Fetch dataset \n",
    "predict_students_dropout_and_academic_success = fetch_ucirepo(id=697) \n",
    "  \n",
    "# Data (as pandas dataframes) \n",
    "X = predict_students_dropout_and_academic_success.data.features \n",
    "y = predict_students_dropout_and_academic_success.data.targets \n",
    "  \n",
    "# Metadata; commenting out because it's a lot!\n",
    "# This code calling up .metadata is specific to this dataframe,\n",
    "# would not work in most pandas dataframes\n",
    "# print(predict_students_dropout_and_academic_success.metadata) \n",
    "  \n",
    "# Variable information\n",
    "# NOTE: This code works with this dataframe, but typically when\n",
    "# working in Pandas, one would pull up information on the \n",
    "# columns/variables using data_frame_name.info()\n",
    "print(predict_students_dropout_and_academic_success.variables) "
   ]
  },
  {
   "cell_type": "code",
   "execution_count": 334,
   "id": "8c0f1dbe-1ad5-4796-8887-f27750bef8a3",
   "metadata": {},
   "outputs": [
    {
     "data": {
      "text/html": [
       "<div>\n",
       "<style scoped>\n",
       "    .dataframe tbody tr th:only-of-type {\n",
       "        vertical-align: middle;\n",
       "    }\n",
       "\n",
       "    .dataframe tbody tr th {\n",
       "        vertical-align: top;\n",
       "    }\n",
       "\n",
       "    .dataframe thead th {\n",
       "        text-align: right;\n",
       "    }\n",
       "</style>\n",
       "<table border=\"1\" class=\"dataframe\">\n",
       "  <thead>\n",
       "    <tr style=\"text-align: right;\">\n",
       "      <th></th>\n",
       "      <th>Application mode</th>\n",
       "      <th>Mother's qualification</th>\n",
       "      <th>Father's qualification</th>\n",
       "      <th>Nacionality</th>\n",
       "      <th>Marital Status</th>\n",
       "    </tr>\n",
       "  </thead>\n",
       "  <tbody>\n",
       "    <tr>\n",
       "      <th>count</th>\n",
       "      <td>4424.000000</td>\n",
       "      <td>4424.000000</td>\n",
       "      <td>4424.000000</td>\n",
       "      <td>4424.000000</td>\n",
       "      <td>4424.000000</td>\n",
       "    </tr>\n",
       "    <tr>\n",
       "      <th>mean</th>\n",
       "      <td>18.669078</td>\n",
       "      <td>19.561935</td>\n",
       "      <td>22.275316</td>\n",
       "      <td>1.873192</td>\n",
       "      <td>1.178571</td>\n",
       "    </tr>\n",
       "    <tr>\n",
       "      <th>std</th>\n",
       "      <td>17.484682</td>\n",
       "      <td>15.603186</td>\n",
       "      <td>15.343108</td>\n",
       "      <td>6.914514</td>\n",
       "      <td>0.605747</td>\n",
       "    </tr>\n",
       "    <tr>\n",
       "      <th>min</th>\n",
       "      <td>1.000000</td>\n",
       "      <td>1.000000</td>\n",
       "      <td>1.000000</td>\n",
       "      <td>1.000000</td>\n",
       "      <td>1.000000</td>\n",
       "    </tr>\n",
       "    <tr>\n",
       "      <th>25%</th>\n",
       "      <td>1.000000</td>\n",
       "      <td>2.000000</td>\n",
       "      <td>3.000000</td>\n",
       "      <td>1.000000</td>\n",
       "      <td>1.000000</td>\n",
       "    </tr>\n",
       "    <tr>\n",
       "      <th>50%</th>\n",
       "      <td>17.000000</td>\n",
       "      <td>19.000000</td>\n",
       "      <td>19.000000</td>\n",
       "      <td>1.000000</td>\n",
       "      <td>1.000000</td>\n",
       "    </tr>\n",
       "    <tr>\n",
       "      <th>75%</th>\n",
       "      <td>39.000000</td>\n",
       "      <td>37.000000</td>\n",
       "      <td>37.000000</td>\n",
       "      <td>1.000000</td>\n",
       "      <td>1.000000</td>\n",
       "    </tr>\n",
       "    <tr>\n",
       "      <th>max</th>\n",
       "      <td>57.000000</td>\n",
       "      <td>44.000000</td>\n",
       "      <td>44.000000</td>\n",
       "      <td>109.000000</td>\n",
       "      <td>6.000000</td>\n",
       "    </tr>\n",
       "  </tbody>\n",
       "</table>\n",
       "</div>"
      ],
      "text/plain": [
       "       Application mode  Mother's qualification  Father's qualification  \\\n",
       "count       4424.000000             4424.000000             4424.000000   \n",
       "mean          18.669078               19.561935               22.275316   \n",
       "std           17.484682               15.603186               15.343108   \n",
       "min            1.000000                1.000000                1.000000   \n",
       "25%            1.000000                2.000000                3.000000   \n",
       "50%           17.000000               19.000000               19.000000   \n",
       "75%           39.000000               37.000000               37.000000   \n",
       "max           57.000000               44.000000               44.000000   \n",
       "\n",
       "       Nacionality  Marital Status  \n",
       "count  4424.000000     4424.000000  \n",
       "mean      1.873192        1.178571  \n",
       "std       6.914514        0.605747  \n",
       "min       1.000000        1.000000  \n",
       "25%       1.000000        1.000000  \n",
       "50%       1.000000        1.000000  \n",
       "75%       1.000000        1.000000  \n",
       "max     109.000000        6.000000  "
      ]
     },
     "execution_count": 334,
     "metadata": {},
     "output_type": "execute_result"
    }
   ],
   "source": [
    "# Some integer features should be treated as categorical.\n",
    "# Let's get some descriptive statistics on some of the\n",
    "# features to better understand why they might be categories.\n",
    "X[[\n",
    "    \"Application mode\", \n",
    "    \"Mother's qualification\",\n",
    "    \"Father's qualification\",\n",
    "    \"Nacionality\",\n",
    "    \"Marital Status\",\n",
    "    ]].describe()\n",
    "# Looking at Marital Status, we see a maximum of 6, so this is not a binary\n",
    "# 0/1 feature. Instead it's a categorical feature that we need to set as \n",
    "# a category in the data."
   ]
  },
  {
   "cell_type": "code",
   "execution_count": 335,
   "id": "856125de-2a41-4d4b-b3d9-8643d19839cf",
   "metadata": {},
   "outputs": [],
   "source": [
    "# For simplicity, let's drop most of the categorical features\n",
    "features_to_drop = [\n",
    "    \"Application mode\", \n",
    "    \"Mother's qualification\",\n",
    "    \"Father's qualification\",\n",
    "    \"Nacionality\",\n",
    "    \"Mother's occupation\",\n",
    "    \"Father's occupation\",\n",
    "    \"Previous qualification\",\n",
    "    \"Course\",\n",
    "]\n",
    "X = X.drop(columns=features_to_drop)\n"
   ]
  },
  {
   "cell_type": "code",
   "execution_count": 336,
   "id": "71885e93-dc1c-4a95-9ee2-fd04d63edd43",
   "metadata": {},
   "outputs": [],
   "source": [
    "# We will transform the categorical feature Marital Status into a series of\n",
    "# binary columns for each category but one\n",
    "# This method drops one of the categories to avoid redudancy with the\n",
    "# columns for the other categories\n",
    "X = pd.get_dummies(X, columns=['Marital Status'], drop_first=True)"
   ]
  },
  {
   "cell_type": "code",
   "execution_count": 363,
   "id": "4b1544ad-ab0d-4624-8d4b-cb71b74e3980",
   "metadata": {},
   "outputs": [
    {
     "name": "stdout",
     "output_type": "stream",
     "text": [
      "<class 'pandas.core.frame.DataFrame'>\n",
      "RangeIndex: 4424 entries, 0 to 4423\n",
      "Data columns (total 32 columns):\n",
      " #   Column                                          Non-Null Count  Dtype  \n",
      "---  ------                                          --------------  -----  \n",
      " 0   Application order                               4424 non-null   int64  \n",
      " 1   Daytime/evening attendance                      4424 non-null   int64  \n",
      " 2   Previous qualification (grade)                  4424 non-null   float64\n",
      " 3   Admission grade                                 4424 non-null   float64\n",
      " 4   Displaced                                       4424 non-null   int64  \n",
      " 5   Educational special needs                       4424 non-null   int64  \n",
      " 6   Debtor                                          4424 non-null   int64  \n",
      " 7   Tuition fees up to date                         4424 non-null   int64  \n",
      " 8   Gender                                          4424 non-null   int64  \n",
      " 9   Scholarship holder                              4424 non-null   int64  \n",
      " 10  Age at enrollment                               4424 non-null   int64  \n",
      " 11  International                                   4424 non-null   int64  \n",
      " 12  Curricular units 1st sem (credited)             4424 non-null   int64  \n",
      " 13  Curricular units 1st sem (enrolled)             4424 non-null   int64  \n",
      " 14  Curricular units 1st sem (evaluations)          4424 non-null   int64  \n",
      " 15  Curricular units 1st sem (approved)             4424 non-null   int64  \n",
      " 16  Curricular units 1st sem (grade)                4424 non-null   float64\n",
      " 17  Curricular units 1st sem (without evaluations)  4424 non-null   int64  \n",
      " 18  Curricular units 2nd sem (credited)             4424 non-null   int64  \n",
      " 19  Curricular units 2nd sem (enrolled)             4424 non-null   int64  \n",
      " 20  Curricular units 2nd sem (evaluations)          4424 non-null   int64  \n",
      " 21  Curricular units 2nd sem (approved)             4424 non-null   int64  \n",
      " 22  Curricular units 2nd sem (grade)                4424 non-null   float64\n",
      " 23  Curricular units 2nd sem (without evaluations)  4424 non-null   int64  \n",
      " 24  Unemployment rate                               4424 non-null   float64\n",
      " 25  Inflation rate                                  4424 non-null   float64\n",
      " 26  GDP                                             4424 non-null   float64\n",
      " 27  Marital Status_2                                4424 non-null   bool   \n",
      " 28  Marital Status_3                                4424 non-null   bool   \n",
      " 29  Marital Status_4                                4424 non-null   bool   \n",
      " 30  Marital Status_5                                4424 non-null   bool   \n",
      " 31  Marital Status_6                                4424 non-null   bool   \n",
      "dtypes: bool(5), float64(7), int64(20)\n",
      "memory usage: 954.9 KB\n",
      "None\n"
     ]
    }
   ],
   "source": [
    "# Let's look at our simplified data\n",
    "# Notice the columns for Martial Status\n",
    "# (with value of 1 missing, that's the reference\n",
    "# category)\n",
    "print(X.info())"
   ]
  },
  {
   "cell_type": "code",
   "execution_count": 338,
   "id": "2a8eeb00-7b69-451a-968c-e8bd91533677",
   "metadata": {},
   "outputs": [],
   "source": [
    "# Have 3 categories for the target, but for this demonstration, \n",
    "# want just 2 for simplicity\n",
    "# Recoding Target into 2 labeled and 2 numeric categories\n",
    "# For numeric categories, 1 = 'Late grad or drop-out'\n",
    "y_recode = y.copy()\n",
    "y_recode['TargetLabel'] = np.where(y_recode['Target'] == 'Graduate', 'On-time grad', 'Late grad or drop-out')\n",
    "y_recode['TargetNumeric'] = np.where(y_recode['Target'] == 'Graduate', 0, 1)"
   ]
  },
  {
   "cell_type": "code",
   "execution_count": 382,
   "id": "2dae92ec-827e-4cd2-b70d-395b64cf7341",
   "metadata": {},
   "outputs": [
    {
     "data": {
      "text/plain": [
       "[Text(0.5, 1.0, 'Counts for original 3 categories')]"
      ]
     },
     "execution_count": 382,
     "metadata": {},
     "output_type": "execute_result"
    },
    {
     "data": {
      "image/png": "[encoded data removed]",
      "text/plain": [
       "<Figure size 640x480 with 1 Axes>"
      ]
     },
     "metadata": {},
     "output_type": "display_data"
    }
   ],
   "source": [
    "# Let's look at the original categories\n",
    "sns.countplot(data=y, x='Target').set(title=\"Counts for original 3 categories\")"
   ]
  },
  {
   "cell_type": "code",
   "execution_count": 384,
   "id": "119d4b81-371c-42d3-b611-0654058ee385",
   "metadata": {},
   "outputs": [
    {
     "data": {
      "text/plain": [
       "[Text(0.5, 1.0, 'Counts for binary outcome')]"
      ]
     },
     "execution_count": 384,
     "metadata": {},
     "output_type": "execute_result"
    },
    {
     "data": {
      "image/png": "[encoded data removed]",
      "text/plain": [
       "<Figure size 640x480 with 1 Axes>"
      ]
     },
     "metadata": {},
     "output_type": "display_data"
    }
   ],
   "source": [
    "# And now let's look at our binary categories\n",
    "sns.countplot(data=y_recode, x='TargetLabel').set(title=\"Counts for binary outcome\")"
   ]
  },
  {
   "cell_type": "markdown",
   "id": "2c5a9940-f1ab-42b2-85fc-cb1d74f60cd0",
   "metadata": {},
   "source": [
    "Things to note from the above:\n",
    "- When we have three categories, they are quite imbalanced.\n",
    "- With two categories, the balance is amazing!\n",
    "\n",
    "We will continue with two categories, but I've left code commented out that would allow you to run the models on all three categories. Note that different approaches have relative benefits depending on the nature of your data.\n",
    "\n",
    "You can read more later here: https://medium.com/@hassaanidrees7/gradient-boosting-vs-random-forest-which-ensemble-method-should-you-use-9f2ee294d9c6"
   ]
  },
  {
   "cell_type": "code",
   "execution_count": 341,
   "id": "ab2c5ac6-e9a7-4b54-8213-acd753ae1a27",
   "metadata": {},
   "outputs": [],
   "source": [
    "# Set aside 20% of the data as final testing dataset\n",
    "# NOTE: The commented out part below is in case you want\n",
    "# to build models predicting all 3 categories if you\n",
    "# have extra time or want to do more after the presentation\n",
    "X_modeling, X_test, y_modeling, y_test = train_test_split(\n",
    "    X, y_recode['TargetNumeric'], test_size=0.20, random_state=55)\n",
    "# X_modeling, X_test, y_modeling, y_test = train_test_split(\n",
    "#     X, np.array(y), test_size=0.20, random_state=55)"
   ]
  },
  {
   "cell_type": "code",
   "execution_count": 342,
   "id": "c149d07b-df92-4f92-a2cd-c9e1188d3131",
   "metadata": {},
   "outputs": [],
   "source": [
    "# Get training and validation data\n",
    "X_train, X_validate, y_train, y_validate = train_test_split(\n",
    "    X_modeling, y_modeling, test_size=0.20, random_state=55)"
   ]
  },
  {
   "cell_type": "markdown",
   "id": "4c97dccf-6fe1-49b7-92b6-b02c06c58dc7",
   "metadata": {},
   "source": [
    "#### Fit the random forest and gradient boost models\n",
    "\n",
    "The following cells fit the models with default hyperparameters(not hyperparameters we choose). We only set the random_state for reproducibility. Hyperparameter tuning comes later!\n",
    "\n",
    "- For future reference, you can read up on all of the hyperparamters and their defaults for GradientBoostingClassifier here: https://scikit-learn.org/stable/modules/generated/sklearn.ensemble.GradientBoostingClassifier.html\n",
    "- And here is where you can read up on all of the hyperparameters and their defaults for RandomForestClassfier, for future reference: https://scikit-learn.org/stable/modules/generated/sklearn.ensemble.RandomForestClassifier.html\n"
   ]
  },
  {
   "cell_type": "code",
   "execution_count": 356,
   "id": "95ac5864-ad5b-4555-a537-0bcf5529f1ee",
   "metadata": {},
   "outputs": [
    {
     "name": "stdout",
     "output_type": "stream",
     "text": [
      "Rand forest f1 score:  0.8539\n",
      "Rand forest classification_report: \n",
      "               precision    recall  f1-score   support\n",
      "\n",
      "           0       0.91      0.81      0.86       377\n",
      "           1       0.80      0.91      0.85       331\n",
      "\n",
      "    accuracy                           0.85       708\n",
      "   macro avg       0.86      0.86      0.85       708\n",
      "weighted avg       0.86      0.85      0.85       708\n",
      "\n"
     ]
    }
   ],
   "source": [
    "# Fit a random forest classifier\n",
    "rand_for = RandomForestClassifier(random_state=55)\n",
    "rand_for.fit(X_train, y_train)\n",
    "\n",
    "# Get predictions\n",
    "rand_for_preds = rand_for.predict(X_validate)\n",
    "\n",
    "# Print f1 score, classification report\n",
    "# print('Rand forest f1 score: ', f1_score(rand_for_preds, y_validate, average='macro'))\n",
    "print('Rand forest f1 score: ', round(f1_score(rand_for_preds, y_validate), 4))\n",
    "print('Rand forest classification_report: \\n', classification_report(rand_for_preds, y_validate))\n",
    "\n",
    "# This \"extra\" step is just to make the code work whether or not\n",
    "# people run some \"optional\" code below that I have commented out\n",
    "best_model_rand_for = rand_for"
   ]
  },
  {
   "cell_type": "code",
   "execution_count": 344,
   "id": "43cdd605-055e-480b-b9db-c992c043c1d1",
   "metadata": {},
   "outputs": [
    {
     "name": "stdout",
     "output_type": "stream",
     "text": [
      "Grad boost f1 score:  0.836\n",
      "Grad boost classification report: \n",
      "               precision    recall  f1-score   support\n",
      "\n",
      "           0       0.89      0.79      0.84       376\n",
      "           1       0.79      0.89      0.84       332\n",
      "\n",
      "    accuracy                           0.84       708\n",
      "   macro avg       0.84      0.84      0.84       708\n",
      "weighted avg       0.84      0.84      0.84       708\n",
      "\n"
     ]
    }
   ],
   "source": [
    "# Fit a gradient boosting classifier\n",
    "grad_boost = GradientBoostingClassifier(random_state=55)\n",
    "grad_boost.fit(X_train, y_train)\n",
    "\n",
    "# Get predictions\n",
    "grad_boost_preds = grad_boost.predict(X_validate)\n",
    "\n",
    "# Print f1 score, classification report\n",
    "# NOTE: The commented out part below is in case you want\n",
    "# to build models predicting all 3 categories if you\n",
    "# have extra time or want to do more after the presentation\n",
    "# print('Grad boost f1 score: ', round(f1_score(grad_boost_preds, y_validate, average='macro'), 4))\n",
    "print('Grad boost f1 score: ', round(f1_score(grad_boost_preds, y_validate), 4))\n",
    "print('Grad boost classification report: \\n', classification_report(grad_boost_preds, y_validate))"
   ]
  },
  {
   "cell_type": "raw",
   "id": "677a2aa1-4de4-4a56-9625-2057e65d0069",
   "metadata": {},
   "source": [
    "#### Hyperparameter tune the gradient boosting model\n",
    "\n",
    "This is very simple hyperparameter tuning on just a few hyperparameters for demonstration purposes. We focus on the gradient boosting model because (spoiler!) the hyperparameter tuning changes the metrics more with this model compared to the random forest.\n",
    "\n",
    "Note that we use GridSearchCV, which tests out all combinations. If you end up doing more with machine learning, I recommend looking up Optuna, which strategically chooses which combinations of hyperparameters to focus on for more thorough hyperparameter tuning that is relatively fast. "
   ]
  },
  {
   "cell_type": "code",
   "execution_count": 346,
   "id": "0e6dbf55-5957-4b84-9131-58b3f30db194",
   "metadata": {},
   "outputs": [
    {
     "name": "stdout",
     "output_type": "stream",
     "text": [
      "Grad boost best parameters:  {'learning_rate': 0.3, 'max_depth': 2, 'n_estimators': 100}\n",
      "Grad boost best model f1 score:  0.8575\n",
      "Grad boost best model classification report: \n",
      "              precision    recall  f1-score   support\n",
      "\n",
      "           0       0.81      0.91      0.86       334\n",
      "           1       0.91      0.81      0.86       374\n",
      "\n",
      "    accuracy                           0.86       708\n",
      "   macro avg       0.86      0.86      0.86       708\n",
      "weighted avg       0.86      0.86      0.86       708\n",
      "\n"
     ]
    }
   ],
   "source": [
    "# Hyperparameter tuning for grad boost\n",
    "# Code adapted from this source:\n",
    "# https://www.geeksforgeeks.org/how-to-tune-hyperparameters-in-gradient-boosting-algorithm/\n",
    "\n",
    "# If you have extra time, you could play around with changing\n",
    "# the parts with comments and see if you can do even better!\n",
    "\n",
    "# Define the parameter grid for GridSearchCV\n",
    "param_grid_grad_boost = {\n",
    "    'n_estimators': [50, 100, 200], # Could try different and/or additional numbers here\n",
    "    'learning_rate': [0.05, 0.1, 0.2, 0.3], # And here\n",
    "    'max_depth': [2, 3, 4], # And here\n",
    "}\n",
    "\n",
    "# Initialize GridSearchCV\n",
    "# NOTE: The commented out part below is in case you want\n",
    "# to build models predicting all 3 categories if you\n",
    "# have extra time or want to do more after the presentation\n",
    "# grid_search_grad_boost = GridSearchCV(estimator=grad_boost, param_grid=param_grid_grad_boost, cv=5, scoring='f1_macro', n_jobs=-1)\n",
    "grid_search_grad_boost = GridSearchCV(estimator=grad_boost, param_grid=param_grid, cv=5, scoring='f1', n_jobs=-1)\n",
    "\n",
    "# Fit the model to the training data using GridSearchCV\n",
    "grid_search_grad_boost.fit(X_train, y_train)\n",
    "\n",
    "# Get the best parameters and best model\n",
    "best_params_grad_boost = grid_search_grad_boost.best_params_\n",
    "best_model_grad_boost = grid_search_grad_boost.best_estimator_\n",
    "\n",
    "# Make predictions on the test set using the best model\n",
    "# The default for GridSearchCV is to update the model grad_boost\n",
    "# to have the tuned hyperparameters, so the following will\n",
    "# give predictions from the tuned model now\n",
    "y_pred_best_grad_boost = best_model_grad_boost.predict(X_validate)\n",
    "\n",
    "# Evaluate the best model\n",
    "# NOTE: The commented out part below is in case you want\n",
    "# to build models predicting all 3 categories if you\n",
    "# have extra time or want to do more after the presentation\n",
    "# f1_best_grad_boost = f1_score(y_validate, y_pred_best_grad_boost, average='macro')\n",
    "f1_best_grad_boost = f1_score(y_validate, y_pred_best_grad_boost)\n",
    "class_report_best_grad_boost = classification_report(y_validate, y_pred_best_grad_boost)\n",
    "\n",
    "# Print the results\n",
    "print(\"Grad boost best parameters: \", best_params_grad_boost)\n",
    "print(f\"Grad boost best model f1 score:  {round(f1_best_grad_boost, 4)}\")\n",
    "print(f\"Grad boost best model classification report: \\n{class_report_best_grad_boost}\")"
   ]
  },
  {
   "cell_type": "code",
   "execution_count": 348,
   "id": "33dd1950-d63d-4a52-930e-9d47cdec02f1",
   "metadata": {},
   "outputs": [
    {
     "name": "stdout",
     "output_type": "stream",
     "text": [
      "Random forest best parameters:  {'max_depth': None, 'max_features': 'sqrt', 'n_estimators': 100}\n",
      "Rand forest best model f1 score:  0.8539\n",
      "Rand forest best model classification report: \n",
      "              precision    recall  f1-score   support\n",
      "\n",
      "           0       0.81      0.91      0.86       334\n",
      "           1       0.91      0.80      0.85       374\n",
      "\n",
      "    accuracy                           0.85       708\n",
      "   macro avg       0.86      0.86      0.85       708\n",
      "weighted avg       0.86      0.85      0.85       708\n",
      "\n"
     ]
    }
   ],
   "source": [
    "# Commented out for time\n",
    "# You can uncomment and run if you finish early or after the session\n",
    "# To uncomment: select everything in this cell below here and use\n",
    "# the keyboard shortcut Ctrl + c\n",
    "\n",
    "# # Hyperparameter tuning for random forest classifier\n",
    "# # Code adapted from this source (though note that I found some errors and other issues):\n",
    "# # https://www.geeksforgeeks.org/random-forest-hyperparameter-tuning-in-python/\n",
    "\n",
    "# # Define the parameter grid for GridSearchCV\n",
    "# param_grid_rand_for = {\n",
    "#     'n_estimators': [50, 100, 200],\n",
    "#     'max_features': ['sqrt', 'log2'],\n",
    "#     'max_depth': [None, 2, 3],\n",
    "# }\n",
    "\n",
    "# # Initialize GridSearchCV for random forest classifier\n",
    "# # grid_search_rand_for = GridSearchCV(estimator=rand_for, param_grid=param_grid_rand_for, cv=5, scoring='f1_macro', n_jobs=-1)\n",
    "# grid_search_rand_for = GridSearchCV(estimator=rand_for, param_grid=param_grid_rand_for, cv=5, scoring='f1', n_jobs=-1)\n",
    "\n",
    "# # Fit the model to the training data using GridSearchCV\n",
    "# grid_search_rand_for.fit(X_train, y_train)\n",
    "\n",
    "# # Get the best parameters and best model\n",
    "# best_params_rand_for = grid_search_rand_for.best_params_\n",
    "# best_model_rand_for = grid_search_rand_for.best_estimator_\n",
    "\n",
    "# # Make predictions on the test set using the best model\n",
    "# # The default for GridSearchCV is to update the model grad_boost\n",
    "# # to have the tuned hyperparameters, so the following will\n",
    "# # give predictions from the tuned model now\n",
    "# y_pred_best_rand_for = best_model_rand_for.predict(X_validate)\n",
    "\n",
    "# # Evaluate the best model\n",
    "# # NOTE: The commented out part below is in case you want\n",
    "# # to build models predicting all 3 categories if you\n",
    "# # have extra time or want to do more after the presentation\n",
    "# # f1_best_rand_for = f1_score(y_validate, y_pred_best_grad_boost, average='macro')\n",
    "# f1_best_rand_for = f1_score(y_validate, y_pred_best_rand_for)\n",
    "# class_report_best_rand_for = classification_report(y_validate, y_pred_best_rand_for)\n",
    "\n",
    "# # Print the results\n",
    "# print(\"Random forest best parameters: \", best_params_rand_for)\n",
    "# print(f\"Rand forest best model f1 score:  {round(f1_best_rand_for, 4)}\")\n",
    "# print(f\"Rand forest best model classification report: \\n{class_report_best_rand_for}\")"
   ]
  },
  {
   "cell_type": "markdown",
   "id": "4f337f76-46ca-418e-8b8c-e2f30c902ef0",
   "metadata": {},
   "source": [
    "#### Discuss what you see!\n",
    "\n",
    "What do you see when you compare the default model to the tuned model?\n",
    "- Did hyperparamter tuning improve your f1 score?\n",
    "- If so, by how much?\n",
    "- What are your reactions to these results?"
   ]
  },
  {
   "cell_type": "markdown",
   "id": "c292bf42-436d-4ee0-8b78-76c569aa3f32",
   "metadata": {},
   "source": [
    "#### Feature importances\n",
    "\n",
    "A critique of machine learning is that it can lack transperency. We can add some transparency but pulling up feature importances. These are _not_ the same as parameters you might see in a logistic regression model. Rather, they are values that tell you which features (or predictors or independent variables) were most influential in the predicitons from the model."
   ]
  },
  {
   "cell_type": "code",
   "execution_count": 349,
   "id": "092c9798-2afb-4e8f-b977-327909f5c433",
   "metadata": {},
   "outputs": [],
   "source": [
    "# Boosting model feature importances\n",
    "grad_boost_importances = best_model_grad_boost.feature_importances_\n",
    "grad_boost_importances_df = pd.DataFrame({\n",
    "    'Feature': X_train.columns,\n",
    "    'Importance': grad_boost_importances\n",
    "}).sort_values(\n",
    "    axis=0,\n",
    "    by='Importance',\n",
    "    ascending=False\n",
    ")"
   ]
  },
  {
   "cell_type": "code",
   "execution_count": 377,
   "id": "925e6714-7064-43ab-8a1d-d2a84a29eae2",
   "metadata": {},
   "outputs": [
    {
     "data": {
      "text/plain": [
       "[Text(0.5, 1.0, 'Feature importances for grad boost')]"
      ]
     },
     "execution_count": 377,
     "metadata": {},
     "output_type": "execute_result"
    },
    {
     "data": {
      "image/png": "[encoded data removed]",
      "text/plain": [
       "<Figure size 640x480 with 1 Axes>"
      ]
     },
     "metadata": {},
     "output_type": "display_data"
    }
   ],
   "source": [
    "# Creating the data viz\n",
    "g_boost = sns.barplot(\n",
    "    grad_boost_importances_df,\n",
    "    x='Feature',\n",
    "    y='Importance',\n",
    "    hue='Importance'\n",
    ")\n",
    "# Rotating the labels for readability\n",
    "g_boost.tick_params(axis='x', rotation=90)\n",
    "g_boost.set(title=\"Feature importances for grad boost\")\n"
   ]
  },
  {
   "cell_type": "code",
   "execution_count": 380,
   "id": "63c6ea5d-2435-4d0d-b9ca-b30fe9285a98",
   "metadata": {},
   "outputs": [],
   "source": [
    "# Commented out for time, you can uncomment\n",
    "# Random forest model feature importances\n",
    "# rand_for_importances = best_model_rand_for.feature_importances_\n",
    "# rand_for_importances_df = pd.DataFrame({\n",
    "#     'Feature': X_train.columns,\n",
    "#     'Importance': rand_for_importances\n",
    "# }).sort_values(\n",
    "#     axis=0,\n",
    "#     by='Importance',\n",
    "#     ascending=False\n",
    "# )"
   ]
  },
  {
   "cell_type": "code",
   "execution_count": 381,
   "id": "221d3e16-0f94-49bf-bee2-f475d1c902a2",
   "metadata": {},
   "outputs": [],
   "source": [
    "# Commented out for time, you can uncomment\n",
    "# Creating the data viz, then rotating the labels and setting a title\n",
    "# g_rand_for = sns.barplot(\n",
    "#     rand_for_importances_df,\n",
    "#     x='Feature',\n",
    "#     y='Importance',\n",
    "#     hue='Importance'\n",
    "# )\n",
    "# g_rand_for.tick_params(axis='x', rotation=90)\n",
    "# g_rand_for.set(title=\"Feature importances for random forest\")"
   ]
  },
  {
   "cell_type": "markdown",
   "id": "8aa74501-ebd4-4d8a-8e74-89dc36594939",
   "metadata": {},
   "source": [
    "#### Discuss feature importances\n",
    "\n",
    "- What does the above tell you about the features that contributed the most information to predictions from the model?\n",
    "- Anything that surprised you?\n",
    "- Based on these importances, are there features you would leave out of future models for simplicity?"
   ]
  },
  {
   "cell_type": "markdown",
   "id": "99261c17-5d4c-4d8c-a3b1-ec03218d2c73",
   "metadata": {},
   "source": [
    "#### The final step!\n",
    "\n",
    "Once you have done all you plan to do to improve your predictions with your model, you can see how it runs on the \"hold out\"  or \"out of bag\" data, the data we've never looked at before. This gives us a better sense of how we expect the model to perform in real time with data it has never \"seen\" before.\n",
    "\n",
    "Below, we'll get predictions and then compute the relevant metrics for the unseen data as a final gauge of how well we expect our models to perform in the real world, both for the (untuned) random forest and for the tuned gradient boosting model.\n"
   ]
  },
  {
   "cell_type": "code",
   "execution_count": 360,
   "id": "043cbeb3-76f7-4171-86ba-e91a7002dcc0",
   "metadata": {},
   "outputs": [
    {
     "name": "stdout",
     "output_type": "stream",
     "text": [
      "Rand forest f1 score from hold out data:  0.8492\n",
      "Rand forest best model classification report: \n",
      "              precision    recall  f1-score   support\n",
      "\n",
      "           0       0.82      0.88      0.85       422\n",
      "           1       0.88      0.82      0.85       463\n",
      "\n",
      "    accuracy                           0.85       885\n",
      "   macro avg       0.85      0.85      0.85       885\n",
      "weighted avg       0.85      0.85      0.85       885\n",
      "\n"
     ]
    }
   ],
   "source": [
    "# NOTE: Unless you uncommented the part that hyperparameter\n",
    "# tunes the random forest, this is for the untuned model\n",
    "\n",
    "# Random forest\n",
    "# Getting predictions from hold out data first\n",
    "y_pred_hold_out_rand_for = best_model_rand_for.predict(X_test)\n",
    "\n",
    "# Evaluate the best model\n",
    "f1_hold_out_rand_for = f1_score(y_test, y_pred_hold_out_rand_for)\n",
    "class_report_hold_out_rand_for = classification_report(y_test, y_pred_hold_out_rand_for)\n",
    "\n",
    "# Print the results\n",
    "print(f\"Rand forest f1 score from hold out data:  {round(f1_hold_out_rand_for, 4)}\")\n",
    "print(f\"Rand forest best model classification report: \\n{class_report_hold_out_rand_for}\")"
   ]
  },
  {
   "cell_type": "code",
   "execution_count": 361,
   "id": "49171d06-13fe-46ec-b8da-337d15ab2b8e",
   "metadata": {},
   "outputs": [
    {
     "name": "stdout",
     "output_type": "stream",
     "text": [
      "Grad boost f1 score from hold out data:  0.8422\n",
      "Grad boost best model classification report: \n",
      "              precision    recall  f1-score   support\n",
      "\n",
      "           0       0.80      0.89      0.84       422\n",
      "           1       0.89      0.80      0.84       463\n",
      "\n",
      "    accuracy                           0.84       885\n",
      "   macro avg       0.85      0.84      0.84       885\n",
      "weighted avg       0.85      0.84      0.84       885\n",
      "\n"
     ]
    }
   ],
   "source": [
    "# Gradient boost\n",
    "# Getting predictions from hold out data first\n",
    "y_pred_hold_out_grad_boost = best_model_grad_boost.predict(X_test)\n",
    "\n",
    "# Evaluate the best model\n",
    "f1_hold_out_grad_boost = f1_score(y_test, y_pred_hold_out_grad_boost)\n",
    "class_report_hold_out_grad_boost = classification_report(y_test, y_pred_hold_out_grad_boost)\n",
    "\n",
    "# Print the results\n",
    "print(f\"Grad boost f1 score from hold out data:  {round(f1_hold_out_grad_boost, 4)}\")\n",
    "print(f\"Grad boost best model classification report: \\n{class_report_hold_out_grad_boost}\")"
   ]
  },
  {
   "cell_type": "markdown",
   "id": "763a30b0-6c25-4e48-90a7-6628b8660641",
   "metadata": {},
   "source": [
    "#### Discuss the final predictions\n",
    "\n",
    "- Which approach (random forest or gradient boosting) performed better on the unseen testing data?\n",
    "- What are your reactions to this finding?"
   ]
  },
  {
   "cell_type": "markdown",
   "id": "b48b3c12-cb81-495f-a3b9-034fad64af95",
   "metadata": {},
   "source": [
    "#### Additional things you can try on your own\n",
    "\n",
    "1. Uncomment out the sections we \"skipped\" for random forest, including hyperparameter tuning and feature importances.\n",
    "2. Uncommended out the parts that would allow you to run the models predicting all three original categories.\n",
    "\n",
    "For anything extra you do, what do you see? What surprises you? What lessons might you take from these findings to guide you in future machine learning modeling?"
   ]
  }
 ],
 "metadata": {
  "kernelspec": {
   "display_name": "Python [conda env:zero_to_ai]",
   "language": "python",
   "name": "conda-env-zero_to_ai-py"
  },
  "language_info": {
   "codemirror_mode": {
    "name": "ipython",
    "version": 3
   },
   "file_extension": ".py",
   "mimetype": "text/x-python",
   "name": "python",
   "nbconvert_exporter": "python",
   "pygments_lexer": "ipython3",
   "version": "3.12.3"
  }
 },
 "nbformat": 4,
 "nbformat_minor": 5
}
